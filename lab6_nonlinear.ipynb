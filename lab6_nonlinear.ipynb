{
  "nbformat": 4,
  "nbformat_minor": 0,
  "metadata": {
    "colab": {
      "provenance": [],
      "include_colab_link": true
    },
    "kernelspec": {
      "name": "python3",
      "display_name": "Python 3"
    },
    "language_info": {
      "name": "python"
    }
  },
  "cells": [
    {
      "cell_type": "markdown",
      "metadata": {
        "id": "view-in-github",
        "colab_type": "text"
      },
      "source": [
        "<a href=\"https://colab.research.google.com/github/vap326/cse337/blob/main/lab6_nonlinear.ipynb\" target=\"_parent\"><img src=\"https://colab.research.google.com/assets/colab-badge.svg\" alt=\"Open In Colab\"/></a>"
      ]
    },
    {
      "cell_type": "markdown",
      "source": [
        "# Lab 6: Non-linear function approximation\n",
        "\n",
        "## Exercise 1: Q-Learning with a Neural Network (PyTorch) on MountainCar\n",
        "\n",
        "**Objective:**\n",
        "Implement **Q-learning** with a **PyTorch neural network** to solve `MountainCar-v0`. You will approximate Q(s, a) with a small MLP, train it from batches of transitions sampled from a replay buffer, and evaluate the learned policy.\n",
        "\n",
        "---\n",
        "\n",
        "## Environment\n",
        "- **Gym** environment: `MountainCar-v0`\n",
        "- **State**: continuous (position, velocity) → shape `(2,)`\n",
        "- **Actions**: {0: left, 1: no push, 2: right}\n",
        "- **Reward**: -1 per step until the goal (`position >= 0.5`)\n",
        "- **Episode limit**: 500 steps\n",
        "- **Goal**: reduce steps-to-goal and improve return over training\n",
        "\n",
        "---\n",
        "\n",
        "## What You Must Implement\n",
        "\n",
        "### 1) Q-Network (PyTorch)\n",
        "Create a small MLP `QNetwork` that maps `state -> Q-values for 3 actions`.\n",
        "- Inputs: `(batch_size, 2)` float32\n",
        "- Outputs: `(batch_size, 3)` Q-values\n",
        "- Suggested architecture: `2 → 64 → 3` with ReLU\n",
        "- Initialize weights reasonably (PyTorch defaults are fine)\n",
        "\n",
        "### 2) Replay Buffer\n",
        "A cyclic buffer to store transitions `(s, a, r, s_next, done)`:\n",
        "- `append(s, a, r, s_next, done)`\n",
        "- `sample(batch_size)` → tensors ready for PyTorch (float32 for states, int64 for actions, float32 for rewards/done)\n",
        "\n",
        "### 3) ε-Greedy Policy\n",
        "- With probability `epsilon`: pick a random action\n",
        "- Otherwise: `argmax_a Q(s, a)` from the current network\n",
        "- Use **decaying ε** (e.g., from 1.0 down to 0.05 over ~20–50k steps)\n",
        "\n",
        "### 4) Q-Learning Target and Loss\n",
        "For a sampled batch:\n",
        "- Compute `q_pred = Q(s).gather(1, a)`  (shape `(batch, 1)`)\n",
        "- Compute target:\n",
        "  - If `done`: `target = r`\n",
        "  - Else: `target = r + gamma * max_a' Q(s_next, a').detach()`\n",
        "- Loss: Mean Squared Error (MSE) between `q_pred` and `target`\n",
        "\n",
        "> **Stabilization (recommended)**: Use a **target network** `Q_target` (periodically copy weights from `Q_online`) to compute the max over next-state actions. Update every `target_update_freq` steps.\n",
        "\n",
        "### 5) Deep Q-learning method\n",
        "- For each environment step:\n",
        "  1. Select action with ε-greedy\n",
        "  2. Step the env, store transition in buffer\n",
        "  3. If `len(buffer) >= batch_size`:\n",
        "     - Sample a batch\n",
        "     - Compute `q_pred`, `target`\n",
        "     - Backprop: `optimizer.zero_grad(); loss.backward(); optimizer.step()`\n",
        "     - (Optional) gradient clipping (e.g., `clip_grad_norm_` at 10)\n",
        "  4. Periodically update `Q_target ← Q_online` (if using target net)\n",
        "- Track episode returns (sum of rewards) and steps-to-goal\n",
        "\n",
        "---\n",
        "\n",
        "## Evaluation\n",
        "- Run **evaluation episodes** with `epsilon = 0.0` (greedy) every N training episodes\n",
        "- Report:\n",
        "  - Average steps-to-goal (lower is better; random policy is ~200)\n",
        "  - Average return (less negative is better)\n",
        "- Plot:\n",
        "  - Training episode return\n",
        "\n",
        "---\n",
        "\n",
        "## Deliverables\n",
        "1. **Code**: In a notebook.\n",
        "2. **Plots**:\n",
        "   - Episode  vs return\n",
        "   - Final value function (State (postition and velocity) Vs Max(Q(state)))\n",
        "\n",
        "3. **Short write-up** (also in the notebook):\n",
        "   - **Performance of your DQN agent**: How quickly does it learn? Does it reach the goal consistently?\n",
        "   - **Comparison with tile coding**:\n",
        "     - Which representation learns faster?\n",
        "     - Which one is more stable?\n",
        "     - How do the function approximation choices (linear with tiles vs. neural network) affect generalization?\n",
        "     - Did the NN require more tuning (learning rate, ε schedule) compared to tile coding?\n",
        "   - **Insights**: What are the trade-offs between hand-crafted features (tiles) and learned features (neural networks)?\n",
        "\n"
      ],
      "metadata": {
        "id": "DzEu8zQt3_MJ"
      }
    },
    {
      "cell_type": "code",
      "execution_count": 1,
      "metadata": {
        "id": "DHYJhmAv355q"
      },
      "outputs": [],
      "source": [
        "import gymnasium as gym\n",
        "import torch\n",
        "import torch.nn as nn\n",
        "import torch.optim as optim\n",
        "import numpy as np\n",
        "import random\n",
        "from collections import deque\n",
        "import matplotlib.pyplot as plt\n",
        "\n",
        "# Set up environment\n",
        "env = gym.make(\"MountainCar-v0\")\n",
        "n_actions = env.action_space.n\n",
        "state_dim = env.observation_space.shape[0]\n",
        "\n",
        "# Hyperparameters\n",
        "gamma = 0.99\n",
        "alpha = 0.001\n",
        "epsilon = 1.0\n",
        "epsilon_min = 0.01\n",
        "epsilon_decay = 0.995\n",
        "num_episodes = 5000\n",
        "batch_size = 64\n",
        "replay_buffer_size = 50000\n",
        "\n",
        "device = torch.device(\"cuda\" if torch.cuda.is_available() else \"cpu\")"
      ]
    },
    {
      "cell_type": "code",
      "source": [
        "# Define Q-Network\n",
        "class QNetwork(nn.Module):\n",
        "    def __init__(self, state_dim, n_actions):\n",
        "        super(QNetwork, self).__init__()\n",
        "        self.fc1 = nn.Linear(state_dim, 64)\n",
        "        self.fc2 = nn.Linear(64, 64)\n",
        "        self.fc3 = nn.Linear(64, n_actions)\n",
        "\n",
        "    def forward(self, x):\n",
        "        x = torch.relu(self.fc1(x))\n",
        "        x = torch.relu(self.fc2(x))\n",
        "        return self.fc3(x)"
      ],
      "metadata": {
        "id": "JhoDESZd60Yu"
      },
      "execution_count": 2,
      "outputs": []
    },
    {
      "cell_type": "code",
      "source": [
        "# Initialize Q-network and optimizer\n",
        "q_net = QNetwork(state_dim, n_actions).to(device)\n",
        "optimizer = optim.Adam(q_net.parameters(), lr=alpha)\n",
        "loss_fn = nn.MSELoss()\n",
        "replay_buffer = deque(maxlen=replay_buffer_size)"
      ],
      "metadata": {
        "id": "erbbkUXL65HM"
      },
      "execution_count": 3,
      "outputs": []
    },
    {
      "cell_type": "code",
      "source": [
        "def epsilon_greedy(state, epsilon):\n",
        "  ############ TODO ###########\n",
        "  if np.random.rand() < epsilon:\n",
        "        return np.random.randint(n_actions)\n",
        "  state_t = torch.FloatTensor(state).unsqueeze(0).to(device)\n",
        "  q_values = q_net(state_t)\n",
        "  return q_values.argmax().item()\n",
        "  ## epsilon decay is added outside for loop, in main"
      ],
      "metadata": {
        "id": "nk6hESNp7KMk"
      },
      "execution_count": 4,
      "outputs": []
    },
    {
      "cell_type": "code",
      "source": [
        "def train_dqn():\n",
        "    \"\"\"Train the DQN using experience replay.\"\"\"\n",
        "    if len(replay_buffer) < batch_size:\n",
        "        return\n",
        "    batch = random.sample(replay_buffer, batch_size)\n",
        "    states, actions, rewards, next_states, dones = zip(*batch)\n",
        "\n",
        "    states = torch.FloatTensor(states).to(device)\n",
        "    actions = torch.LongTensor(actions).to(device)\n",
        "    rewards = torch.FloatTensor(rewards).to(device)\n",
        "    next_states = torch.FloatTensor(next_states).to(device)\n",
        "    dones = torch.FloatTensor(dones).to(device)\n",
        "\n",
        "    q_values = q_net(states).gather(1, actions.unsqueeze(1)).squeeze(1)\n",
        "    next_q_values = q_net(next_states).max(1)[0].detach()\n",
        "    targets = rewards + gamma * next_q_values * (1 - dones)\n",
        "\n",
        "    loss = loss_fn(q_values, targets)\n",
        "    optimizer.zero_grad()\n",
        "    loss.backward()\n",
        "    optimizer.step()"
      ],
      "metadata": {
        "id": "hcX56dEL7PZd"
      },
      "execution_count": 5,
      "outputs": []
    },
    {
      "cell_type": "code",
      "source": [
        "## MAIN Loop ###\n",
        "rewards_dqn = []\n",
        "\n",
        "for episode in range(num_episodes):\n",
        "  state = env.reset()[0]\n",
        "  total_reward = 0\n",
        "  done = False\n",
        "\n",
        "  while not done:\n",
        "    action = epsilon_greedy(state, epsilon)\n",
        "    next_state, reward, done, _, _ = env.step(action)\n",
        "    ############ TODO ###########\n",
        "    replay_buffer.append((state, action, reward, next_state, done))\n",
        "    train_dqn()\n",
        "    state = next_state\n",
        "    total_reward += reward\n",
        "  epsilon = max(epsilon_min, epsilon * epsilon_decay)\n",
        "  rewards_dqn.append(total_reward)\n",
        "\n",
        "  if (episode + 1) % 100 == 0:\n",
        "      avg_reward = np.mean(rewards_dqn[-100:])\n",
        "      print(f\"Episode {episode+1}/{num_episodes}, \"\n",
        "      f\"Epsilon: {epsilon:.3f}, Avg Reward (last 100): {avg_reward:.2f}\")\n",
        "\n",
        "\n",
        "plt.plot(rewards_dqn)\n",
        "plt.xlabel(\"Episode\")\n",
        "plt.ylabel(\"Total Reward\")\n",
        "plt.title(\"Training Progress - DQN on MountainCar-v0\")\n",
        "plt.show()"
      ],
      "metadata": {
        "id": "kgR0ojdN7RuM",
        "outputId": "1c1c8d67-3ccb-442e-858c-e6a9eae60982",
        "colab": {
          "base_uri": "https://localhost:8080/",
          "height": 1000
        }
      },
      "execution_count": 6,
      "outputs": [
        {
          "output_type": "stream",
          "name": "stderr",
          "text": [
            "/tmp/ipython-input-1929135722.py:8: UserWarning: Creating a tensor from a list of numpy.ndarrays is extremely slow. Please consider converting the list to a single numpy.ndarray with numpy.array() before converting to a tensor. (Triggered internally at /pytorch/torch/csrc/utils/tensor_new.cpp:253.)\n",
            "  states = torch.FloatTensor(states).to(device)\n"
          ]
        },
        {
          "output_type": "stream",
          "name": "stdout",
          "text": [
            "Episode 100/5000, Epsilon: 0.606, Avg Reward (last 100): -4074.23\n",
            "Episode 200/5000, Epsilon: 0.367, Avg Reward (last 100): -275.25\n",
            "Episode 300/5000, Epsilon: 0.222, Avg Reward (last 100): -195.06\n",
            "Episode 400/5000, Epsilon: 0.135, Avg Reward (last 100): -173.54\n",
            "Episode 500/5000, Epsilon: 0.082, Avg Reward (last 100): -159.83\n",
            "Episode 600/5000, Epsilon: 0.049, Avg Reward (last 100): -144.36\n",
            "Episode 700/5000, Epsilon: 0.030, Avg Reward (last 100): -153.00\n",
            "Episode 800/5000, Epsilon: 0.018, Avg Reward (last 100): -148.66\n",
            "Episode 900/5000, Epsilon: 0.011, Avg Reward (last 100): -147.40\n",
            "Episode 1000/5000, Epsilon: 0.010, Avg Reward (last 100): -150.28\n",
            "Episode 1100/5000, Epsilon: 0.010, Avg Reward (last 100): -148.48\n",
            "Episode 1200/5000, Epsilon: 0.010, Avg Reward (last 100): -145.49\n",
            "Episode 1300/5000, Epsilon: 0.010, Avg Reward (last 100): -179.71\n",
            "Episode 1400/5000, Epsilon: 0.010, Avg Reward (last 100): -150.74\n",
            "Episode 1500/5000, Epsilon: 0.010, Avg Reward (last 100): -138.99\n",
            "Episode 1600/5000, Epsilon: 0.010, Avg Reward (last 100): -139.78\n",
            "Episode 1700/5000, Epsilon: 0.010, Avg Reward (last 100): -142.87\n",
            "Episode 1800/5000, Epsilon: 0.010, Avg Reward (last 100): -123.41\n",
            "Episode 1900/5000, Epsilon: 0.010, Avg Reward (last 100): -129.42\n",
            "Episode 2000/5000, Epsilon: 0.010, Avg Reward (last 100): -122.77\n",
            "Episode 2100/5000, Epsilon: 0.010, Avg Reward (last 100): -141.56\n",
            "Episode 2200/5000, Epsilon: 0.010, Avg Reward (last 100): -157.51\n",
            "Episode 2300/5000, Epsilon: 0.010, Avg Reward (last 100): -145.61\n",
            "Episode 2400/5000, Epsilon: 0.010, Avg Reward (last 100): -128.67\n",
            "Episode 2500/5000, Epsilon: 0.010, Avg Reward (last 100): -117.54\n",
            "Episode 2600/5000, Epsilon: 0.010, Avg Reward (last 100): -145.26\n",
            "Episode 2700/5000, Epsilon: 0.010, Avg Reward (last 100): -138.10\n",
            "Episode 2800/5000, Epsilon: 0.010, Avg Reward (last 100): -136.29\n",
            "Episode 2900/5000, Epsilon: 0.010, Avg Reward (last 100): -150.31\n",
            "Episode 3000/5000, Epsilon: 0.010, Avg Reward (last 100): -147.93\n",
            "Episode 3100/5000, Epsilon: 0.010, Avg Reward (last 100): -132.56\n",
            "Episode 3200/5000, Epsilon: 0.010, Avg Reward (last 100): -145.56\n",
            "Episode 3300/5000, Epsilon: 0.010, Avg Reward (last 100): -133.34\n",
            "Episode 3400/5000, Epsilon: 0.010, Avg Reward (last 100): -120.03\n",
            "Episode 3500/5000, Epsilon: 0.010, Avg Reward (last 100): -143.52\n",
            "Episode 3600/5000, Epsilon: 0.010, Avg Reward (last 100): -127.25\n",
            "Episode 3700/5000, Epsilon: 0.010, Avg Reward (last 100): -120.41\n",
            "Episode 3800/5000, Epsilon: 0.010, Avg Reward (last 100): -115.99\n",
            "Episode 3900/5000, Epsilon: 0.010, Avg Reward (last 100): -178.39\n",
            "Episode 4000/5000, Epsilon: 0.010, Avg Reward (last 100): -132.63\n",
            "Episode 4100/5000, Epsilon: 0.010, Avg Reward (last 100): -124.54\n",
            "Episode 4200/5000, Epsilon: 0.010, Avg Reward (last 100): -122.15\n",
            "Episode 4300/5000, Epsilon: 0.010, Avg Reward (last 100): -121.24\n",
            "Episode 4400/5000, Epsilon: 0.010, Avg Reward (last 100): -130.13\n",
            "Episode 4500/5000, Epsilon: 0.010, Avg Reward (last 100): -168.97\n",
            "Episode 4600/5000, Epsilon: 0.010, Avg Reward (last 100): -173.28\n",
            "Episode 4700/5000, Epsilon: 0.010, Avg Reward (last 100): -121.34\n",
            "Episode 4800/5000, Epsilon: 0.010, Avg Reward (last 100): -138.89\n",
            "Episode 4900/5000, Epsilon: 0.010, Avg Reward (last 100): -150.55\n",
            "Episode 5000/5000, Epsilon: 0.010, Avg Reward (last 100): -143.62\n"
          ]
        },
        {
          "output_type": "display_data",
          "data": {
            "text/plain": [
              "<Figure size 640x480 with 1 Axes>"
            ],
            "image/png": "[encoded data removed]"
          },
          "metadata": {}
        }
      ]
    },
    {
      "cell_type": "markdown",
      "source": [
        "# Exercise 2: Deep Q-Learning (DQN) on LunarLander-v2\n",
        "\n",
        "## Problem Description\n",
        "In this exercise, you will implement **Deep Q-Learning (DQN)** to solve the classic control problem **LunarLander-v2** in Gym.\n",
        "\n",
        "### The Task\n",
        "The agent controls a lander that starts at the top of the screen and must safely land on the landing pad between two flags.\n",
        "\n",
        "- **State space**: Continuous vector of 8 variables, including:\n",
        "  - Position (x, y)\n",
        "  - Velocity (x_dot, y_dot)\n",
        "  - Angle and angular velocity\n",
        "  - Left/right leg contact indicators\n",
        "- **Action space**: Discrete, 4 actions\n",
        "  - 0: do nothing\n",
        "  - 1: fire left orientation engine\n",
        "  - 2: fire main engine\n",
        "  - 3: fire right orientation engine\n",
        "- **Rewards**:\n",
        "  - +100 to +140 for successful landing\n",
        "  - -100 for crashing\n",
        "  - Small negative reward for firing engines (fuel cost)\n",
        "  - Episode ends when lander crashes or comes to rest\n",
        "\n",
        "The goal is to train an agent that lands successfully **most of the time**.\n",
        "\n",
        "---\n",
        "\n",
        "## Algorithm: Deep Q-Learning\n",
        "You will implement a **DQN agent** with the following components:\n",
        "\n",
        "1. **Q-Network**\n",
        "   - Neural network that approximates Q(s, a).\n",
        "   - Input: state vector (8 floats).\n",
        "   - Output: Q-values for 4 actions.\n",
        "   - Suggested architecture: 2 hidden layers with 128 neurons each, ReLU activation.\n",
        "\n",
        "2. **Target Network**\n",
        "   - A copy of the Q-network that is updated less frequently (e.g., every 1000 steps).\n",
        "   - Used for stable target computation.\n",
        "\n",
        "3. **Replay Buffer**\n",
        "   - Stores transitions `(s, a, r, s_next, done)`.\n",
        "   - Sample random mini-batches to break correlation between consecutive samples.\n",
        "\n",
        "4. **ε-Greedy Policy**\n",
        "   - With probability ε, take a random action.\n",
        "   - Otherwise, take `argmax_a Q(s, a)`.\n",
        "   - Decay ε over time (e.g., from 1.0 → 0.05).\n",
        "\n",
        "5. **Q-Learning Method**\n",
        "   \n",
        "\n",
        "\n",
        "**Final note:**\n",
        "   No code base is necessary. At this point, you must know how to implement evertything.\n",
        "   For reference, but not recommended ([Here](https://colab.research.google.com/drive/1Gl0kuln79A__hgf2a-_-mwoGISXQDK_X?authuser=1#scrollTo=8Sd0q9DG8Rt8&line=56&uniqifier=1) is a solution)\n",
        "\n",
        "---\n",
        "## Deliverables\n",
        "1. **Code**:\n",
        "- Q-network (PyTorch).\n",
        "- Training loop with ε-greedy policy, target network, and Adam optimizer.\n",
        "\n",
        "2. **Plots**:\n",
        "- Episode returns vs training episodes.\n",
        "- Evaluation performance with a greedy policy (ε = 0).\n",
        "\n",
        "3. **Short Write-up (≤1 page)**:\n",
        "- Did your agent learn to land consistently?  \n",
        "- How many episodes did it take before you saw improvement?  \n",
        "- What effect did replay buffer size, target update frequency, and learning rate have on stability?  \n",
        "- Compare results across different runs (does it sometimes fail to converge?).\n",
        "\n",
        "Compare this task with the **MountainCar-v0** problem you solved earlier:\n",
        "- What is **extra** or more challenging in LunarLander?  \n",
        "- Consider state dimensionality, number of actions, reward shaping, and the difficulty of exploration.  \n",
        "- Why might DQN be necessary here, whereas simpler methods (like tile coding) could work for MountainCar?\n"
      ],
      "metadata": {
        "id": "8Sd0q9DG8Rt8"
      }
    },
    {
      "cell_type": "code",
      "source": [
        "import gymnasium as gym\n",
        "import torch\n",
        "import torch.nn as nn\n",
        "import torch.optim as optim\n",
        "import numpy as np\n",
        "import random\n",
        "from collections import deque\n",
        "import matplotlib.pyplot as plt\n",
        "\n",
        "# Set up environment\n",
        "env = gym.make(\"LunarLander-v3\")\n",
        "state_dim = env.observation_space.shape[0]\n",
        "n_actions = env.action_space.n\n",
        "\n",
        "# Hyperparameters\n",
        "gamma = 0.99\n",
        "alpha = 0.001\n",
        "epsilon = 1.0\n",
        "epsilon_min = 0.01\n",
        "epsilon_decay = 0.995\n",
        "num_episodes = 1000\n",
        "batch_size = 64\n",
        "replay_buffer_size = 50000\n",
        "\n",
        "device = torch.device(\"cuda\" if torch.cuda.is_available() else \"cpu\")\n",
        "\n",
        "class QNetwork(nn.Module):\n",
        "    def __init__(self, state_dim, n_actions):\n",
        "        super(QNetwork, self).__init__()\n",
        "        self.fc1 = nn.Linear(state_dim, 128)\n",
        "        self.fc2 = nn.Linear(128, 128)\n",
        "        self.fc3 = nn.Linear(128, n_actions)\n",
        "\n",
        "    def forward(self, x):\n",
        "        x = torch.relu(self.fc1(x))\n",
        "        x = torch.relu(self.fc2(x))\n",
        "        return self.fc3(x)\n",
        "\n",
        "q_net = QNetwork(state_dim, n_actions).to(device)\n",
        "target_net = QNetwork(state_dim, n_actions).to(device)\n",
        "target_net.load_state_dict(q_net.state_dict())\n",
        "optimizer = optim.Adam(q_net.parameters(), lr=alpha)\n",
        "loss_fn = nn.MSELoss()\n",
        "replay_buffer = deque(maxlen=replay_buffer_size)\n",
        "\n",
        "def epsilon_greedy(state, epsilon):\n",
        "  ############ TODO ###########\n",
        "  if np.random.rand() < epsilon:\n",
        "        return np.random.randint(n_actions)\n",
        "  state_t = torch.FloatTensor(state).unsqueeze(0).to(device)\n",
        "  q_values = q_net(state_t)\n",
        "  return q_values.argmax().item()\n",
        "\n",
        "def train_dqn():\n",
        "    \"\"\"Train the DQN using experience replay.\"\"\"\n",
        "    if len(replay_buffer) < batch_size:\n",
        "        return\n",
        "    batch = random.sample(replay_buffer, batch_size)\n",
        "    states, actions, rewards, next_states, dones = zip(*batch)\n",
        "\n",
        "    states = torch.FloatTensor(states).to(device)\n",
        "    actions = torch.LongTensor(actions).to(device)\n",
        "    rewards = torch.FloatTensor(rewards).to(device)\n",
        "    next_states = torch.FloatTensor(next_states).to(device)\n",
        "    dones = torch.FloatTensor(dones).to(device)\n",
        "\n",
        "    q_values = q_net(states).gather(1, actions.unsqueeze(1)).squeeze(1)\n",
        "    next_q_values = q_net(next_states).max(1)[0].detach()\n",
        "    targets = rewards + gamma * next_q_values * (1 - dones)\n",
        "\n",
        "    loss = loss_fn(q_values, targets)\n",
        "    optimizer.zero_grad()\n",
        "    loss.backward()\n",
        "    optimizer.step()\n",
        "\n",
        "## MAIN Loop ###\n",
        "rewards_dqn = []\n",
        "total_steps = 0\n",
        "\n",
        "for episode in range(num_episodes):\n",
        "  state = env.reset()[0]\n",
        "  total_reward = 0\n",
        "  done = False\n",
        "\n",
        "  while not done:\n",
        "    action = epsilon_greedy(state, epsilon)\n",
        "    next_state, reward, done, _, _ = env.step(action)\n",
        "    ############ TODO ###########\n",
        "    replay_buffer.append((state, action, reward, next_state, done))\n",
        "    train_dqn()\n",
        "    state = next_state\n",
        "    total_reward += reward\n",
        "    total_steps += 1\n",
        "  if total_steps % 1000 == 0:\n",
        "            target_net.load_state_dict(q_net.state_dict())\n",
        "  epsilon = max(epsilon_min, epsilon * epsilon_decay)\n",
        "  rewards_dqn.append(total_reward)\n",
        "\n",
        "\n",
        "if (episode + 1) % 100 == 0:\n",
        "    avg_reward = np.mean(rewards_dqn[-100:])\n",
        "    print(f\"Episode {episode+1}/{num_episodes}, \"\n",
        "    f\"Epsilon: {epsilon:.3f}, Avg Reward (last 100): {avg_reward:.2f}\")\n",
        "\n",
        "\n",
        "plt.plot(rewards_dqn)\n",
        "plt.xlabel(\"Episode\")\n",
        "plt.ylabel(\"Total Reward\")\n",
        "plt.title(\"Training Progress - DQN on MountainCar-v0\")\n",
        "plt.show()\n"
      ],
      "metadata": {
        "id": "J6IXyZqR7zia",
        "outputId": "2b472d3d-0d12-489f-ed9e-a5e3c920ab41",
        "colab": {
          "base_uri": "https://localhost:8080/",
          "height": 546
        }
      },
      "execution_count": 1,
      "outputs": [
        {
          "output_type": "stream",
          "name": "stderr",
          "text": [
            "/tmp/ipython-input-2258066564.py:61: UserWarning: Creating a tensor from a list of numpy.ndarrays is extremely slow. Please consider converting the list to a single numpy.ndarray with numpy.array() before converting to a tensor. (Triggered internally at /pytorch/torch/csrc/utils/tensor_new.cpp:253.)\n",
            "  states = torch.FloatTensor(states).to(device)\n"
          ]
        },
        {
          "output_type": "stream",
          "name": "stdout",
          "text": [
            "Episode 1000/1000, Epsilon: 0.010, Avg Reward (last 100): 139.64\n"
          ]
        },
        {
          "output_type": "display_data",
          "data": {
            "text/plain": [
              "<Figure size 640x480 with 1 Axes>"
            ],
            "image/png": "[encoded data removed]"
          },
          "metadata": {}
        }
      ]
    },
    {
      "cell_type": "code",
      "source": [
        "pip install \"gymnasium[box2d]\""
      ],
      "metadata": {
        "id": "zawLQFB2slsq",
        "outputId": "c1754b04-2049-4898-8cb2-76d56b0d6283",
        "colab": {
          "base_uri": "https://localhost:8080/"
        }
      },
      "execution_count": 9,
      "outputs": [
        {
          "output_type": "stream",
          "name": "stdout",
          "text": [
            "Requirement already satisfied: gymnasium[box2d] in /usr/local/lib/python3.12/dist-packages (1.2.1)\n",
            "Requirement already satisfied: numpy>=1.21.0 in /usr/local/lib/python3.12/dist-packages (from gymnasium[box2d]) (2.0.2)\n",
            "Requirement already satisfied: cloudpickle>=1.2.0 in /usr/local/lib/python3.12/dist-packages (from gymnasium[box2d]) (3.1.1)\n",
            "Requirement already satisfied: typing-extensions>=4.3.0 in /usr/local/lib/python3.12/dist-packages (from gymnasium[box2d]) (4.15.0)\n",
            "Requirement already satisfied: farama-notifications>=0.0.1 in /usr/local/lib/python3.12/dist-packages (from gymnasium[box2d]) (0.0.4)\n",
            "Collecting box2d-py==2.3.5 (from gymnasium[box2d])\n",
            "  Downloading box2d-py-2.3.5.tar.gz (374 kB)\n",
            "\u001b[?25l     \u001b[90m━━━━━━━━━━━━━━━━━━━━━━━━━━━━━━━━━━━━━━━━\u001b[0m \u001b[32m0.0/374.4 kB\u001b[0m \u001b[31m?\u001b[0m eta \u001b[36m-:--:--\u001b[0m\r\u001b[2K     \u001b[91m━━━━━━━━━━━━━━━━━━━━━━━━━━━━━━━\u001b[0m\u001b[91m╸\u001b[0m\u001b[90m━━━━━━━\u001b[0m \u001b[32m307.2/374.4 kB\u001b[0m \u001b[31m9.1 MB/s\u001b[0m eta \u001b[36m0:00:01\u001b[0m\r\u001b[2K     \u001b[90m━━━━━━━━━━━━━━━━━━━━━━━━━━━━━━━━━━━━━━━\u001b[0m \u001b[32m374.4/374.4 kB\u001b[0m \u001b[31m7.9 MB/s\u001b[0m eta \u001b[36m0:00:00\u001b[0m\n",
            "\u001b[?25h  Preparing metadata (setup.py) ... \u001b[?25l\u001b[?25hdone\n",
            "Requirement already satisfied: pygame>=2.1.3 in /usr/local/lib/python3.12/dist-packages (from gymnasium[box2d]) (2.6.1)\n",
            "Requirement already satisfied: swig==4.* in /usr/local/lib/python3.12/dist-packages (from gymnasium[box2d]) (4.3.1.post0)\n",
            "Building wheels for collected packages: box2d-py\n",
            "  Building wheel for box2d-py (setup.py) ... \u001b[?25l\u001b[?25hdone\n",
            "  Created wheel for box2d-py: filename=box2d_py-2.3.5-cp312-cp312-linux_x86_64.whl size=2409500 sha256=23132e30f5760d9fcb3bc2e6e461c8cfe71f6bcc0d0b1718d8cc3bc1bdf3a725\n",
            "  Stored in directory: /root/.cache/pip/wheels/2a/e9/60/774da0bcd07f7dc7761a8590fa2d065e4069568e78dcdc3318\n",
            "Successfully built box2d-py\n",
            "Installing collected packages: box2d-py\n",
            "Successfully installed box2d-py-2.3.5\n"
          ]
        }
      ]
    },
    {
      "cell_type": "code",
      "source": [
        "pip install swig"
      ],
      "metadata": {
        "id": "GHEWYHIMsiX4",
        "outputId": "b3a9bc07-77f2-4212-8dd8-bab5b8e12066",
        "colab": {
          "base_uri": "https://localhost:8080/"
        }
      },
      "execution_count": 8,
      "outputs": [
        {
          "output_type": "stream",
          "name": "stdout",
          "text": [
            "Collecting swig\n",
            "  Downloading swig-4.3.1.post0-py3-none-manylinux_2_12_x86_64.manylinux2010_x86_64.whl.metadata (3.5 kB)\n",
            "Downloading swig-4.3.1.post0-py3-none-manylinux_2_12_x86_64.manylinux2010_x86_64.whl (1.9 MB)\n",
            "\u001b[?25l   \u001b[90m━━━━━━━━━━━━━━━━━━━━━━━━━━━━━━━━━━━━━━━━\u001b[0m \u001b[32m0.0/1.9 MB\u001b[0m \u001b[31m?\u001b[0m eta \u001b[36m-:--:--\u001b[0m\r\u001b[2K   \u001b[91m━━━━━━━\u001b[0m\u001b[90m╺\u001b[0m\u001b[90m━━━━━━━━━━━━━━━━━━━━━━━━━━━━━━━━\u001b[0m \u001b[32m0.4/1.9 MB\u001b[0m \u001b[31m10.6 MB/s\u001b[0m eta \u001b[36m0:00:01\u001b[0m\r\u001b[2K   \u001b[91m━━━━━━━━━━━━━━━━━━━━━━━━━━━━━━━━━━━━━━━\u001b[0m\u001b[91m╸\u001b[0m \u001b[32m1.9/1.9 MB\u001b[0m \u001b[31m32.7 MB/s\u001b[0m eta \u001b[36m0:00:01\u001b[0m\r\u001b[2K   \u001b[90m━━━━━━━━━━━━━━━━━━━━━━━━━━━━━━━━━━━━━━━━\u001b[0m \u001b[32m1.9/1.9 MB\u001b[0m \u001b[31m25.6 MB/s\u001b[0m eta \u001b[36m0:00:00\u001b[0m\n",
            "\u001b[?25hInstalling collected packages: swig\n",
            "Successfully installed swig-4.3.1.post0\n"
          ]
        }
      ]
    }
  ]
}